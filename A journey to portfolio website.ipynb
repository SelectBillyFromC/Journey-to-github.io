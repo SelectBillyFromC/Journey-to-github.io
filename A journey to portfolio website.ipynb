{
 "cells": [
  {
   "cell_type": "markdown",
   "metadata": {},
   "source": [
    "# ***A Journey to portfolio website***\n",
    "\n",
    "I felt the need to create a portfolio website after going through a list of 'to-do' list.\n",
    "This will be my first article that will be included in the very page I am working on, and will record every step I take to create the website.\n",
    "I knew about the github.io for free hosting, and decided to utilize this feature to the fullest."
   ]
  },
  {
   "cell_type": "markdown",
   "metadata": {},
   "source": [
    "## index.html\n",
    "The first page is set to create a basic html page. Growing up through the stone age of web 1.0, I enjoyed many cluncky but interesting websites. So to pay tribute to those websites that sparked my interest, I've decided to go full on retro.\n",
    "\n",
    "This page includes features that I want to include on the website:\n",
    "1. Home\n",
    "2. Bio\n",
    "3. Contact Me\n",
    "4. Projects\n",
    "5. Resume\n",
    "6. Links\n",
    "7. Articles\n",
    "\n",
    "These were the original features I had in mind.\n"
   ]
  }
 ],
 "metadata": {
  "kernelspec": {
   "display_name": "Python 3.8.10 64-bit",
   "language": "python",
   "name": "python3"
  },
  "language_info": {
   "name": "python",
   "version": "3.8.10"
  },
  "orig_nbformat": 4,
  "vscode": {
   "interpreter": {
    "hash": "876f5c76c448b28df12c0b7cabcf420a4499d54cbdda723b715b885fd76de677"
   }
  }
 },
 "nbformat": 4,
 "nbformat_minor": 2
}
