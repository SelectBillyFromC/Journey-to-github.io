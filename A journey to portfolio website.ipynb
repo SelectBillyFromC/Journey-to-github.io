{
 "cells": [
  {
   "cell_type": "markdown",
   "metadata": {},
   "source": [
    "\n",
    "# ***A Journey to portfolio website***\n",
    "\n",
    "I felt the need to create a portfolio website after going through a list of 'to-do' list.\n",
    "This will be my first article that will be included in the very page I am working on, and will record every step I take to create the website.\n",
    "I knew about the github.io for free hosting, and decided to utilize this feature to the fullest."
   ]
  },
  {
   "cell_type": "markdown",
   "metadata": {},
   "source": [
    "This is going to be updated as I make changes to the webpage. For learning purpose and later down the road, laugh about my cluelessness and many failures that will lead to success."
   ]
  },
  {
   "cell_type": "markdown",
   "metadata": {},
   "source": [
    "\n",
    "## index.html\n",
    "\n",
    "The first page is set to create a basic html page. \n",
    "\n",
    "Growing up through the stone age of web 1.0, I enjoyed many cluncky but interesting websites. So to pay tribute to those websites that sparked my interest, I've decided to go full on retro.\n",
    "\n",
    "This page includes features that I want to include on the website:\n",
    "1. Home\n",
    "2. Bio\n",
    "3. Contact Me\n",
    "4. Projects\n",
    "5. Resume\n",
    "6. Links\n",
    "7. Articles\n",
    "\n",
    "These were the original features I had in mind.\n"
   ]
  },
  {
   "cell_type": "markdown",
   "metadata": {},
   "source": [
    "\n",
    "# bio.html\n",
    "\n",
    "07/12/2022\n",
    "\n",
    "The next step of my journey is to create a bio page.\n",
    "\n",
    "This page I decided to utilize React.js.\n",
    "\n",
    "Since this is the first time I'm using React, here is what I learned about basic React:"
   ]
  },
  {
   "cell_type": "markdown",
   "metadata": {},
   "source": [
    ">React lets you define components as a class or a function. You can provide optional inputs to the components called ‘props’.\n",
    ">\n",
    ">Components let you split up the UI into independent sections like header, footer, and body. Each component will work independently so any individual component can be rendered independently into the ReactDOMwithout affecting the whole page.\n",
    ">\n",
    ">It also comes with ‘lifecycle methods’ which let you define pieces of code you want to execute according to the state of the component like mounting, rendering, updating and un-mounting.\n",
    ">\n",
    ">React components come with their own trade-offs. For example, we can reuse a component by exporting it to other components, but sometimes it gets confusing to handle multiple components talking and triggering renders for each other.\n",
    ">\n",
    ">this is how a component would look like! [^1]\n",
    "\n",
    "\n",
    "[^1]: https://www.freecodecamp.org/news/portfolio-app-using-react-618814e35843/"
   ]
  },
  {
   "cell_type": "markdown",
   "metadata": {},
   "source": [
    "The first step was to install a React.\n",
    "I am running a Windows, so I decided to install Node.js and `npm` using a ==Node version manager to install Node.js and npm.=="
   ]
  },
  {
   "cell_type": "code",
   "execution_count": null,
   "metadata": {},
   "outputs": [],
   "source": []
  }
 ],
 "metadata": {
  "kernelspec": {
   "display_name": "Python 3.8.10 64-bit",
   "language": "python",
   "name": "python3"
  },
  "language_info": {
   "name": "python",
   "version": "3.8.10"
  },
  "orig_nbformat": 4,
  "vscode": {
   "interpreter": {
    "hash": "876f5c76c448b28df12c0b7cabcf420a4499d54cbdda723b715b885fd76de677"
   }
  }
 },
 "nbformat": 4,
 "nbformat_minor": 2
}
